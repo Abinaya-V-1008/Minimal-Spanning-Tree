{
 "cells": [
  {
   "cell_type": "code",
   "execution_count": 2,
   "id": "f6fe6e87",
   "metadata": {},
   "outputs": [
    {
     "name": "stdout",
     "output_type": "stream",
     "text": [
      "Requirement already satisfied: pywebio in c:\\users\\kanis\\appdata\\local\\programs\\python\\python310\\lib\\site-packages (1.7.1)\n",
      "Requirement already satisfied: tornado>=5.0 in c:\\users\\kanis\\appdata\\local\\programs\\python\\python310\\lib\\site-packages (from pywebio) (6.2)\n",
      "Requirement already satisfied: user-agents in c:\\users\\kanis\\appdata\\local\\programs\\python\\python310\\lib\\site-packages (from pywebio) (2.2.0)\n",
      "Requirement already satisfied: ua-parser>=0.10.0 in c:\\users\\kanis\\appdata\\local\\programs\\python\\python310\\lib\\site-packages (from user-agents->pywebio) (0.16.1)\n"
     ]
    }
   ],
   "source": [
    "!pip install pywebio"
   ]
  },
  {
   "cell_type": "code",
   "execution_count": 8,
   "id": "569b67e9",
   "metadata": {},
   "outputs": [],
   "source": [
    "from pywebio.input import *\n",
    "from pywebio.output import *"
   ]
  },
  {
   "cell_type": "code",
   "execution_count": 9,
   "id": "b87b30fd",
   "metadata": {},
   "outputs": [],
   "source": [
    "def default():\n",
    "    inp_graph=Graph(6)\n",
    "    inp_graph.addedge(0, 1, 2) \n",
    "    inp_graph.addedge(0, 3, 1) \n",
    "    inp_graph.addedge(0, 4, 4) \n",
    "    inp_graph.addedge(1, 2, 3) \n",
    "    inp_graph.addedge(1, 3, 3) \n",
    "    inp_graph.addedge(1, 5, 7) \n",
    "    inp_graph.addedge(2, 3, 5) \n",
    "    inp_graph.addedge(2, 5, 8) \n",
    "    inp_graph.addedge(3, 4, 9)   \n",
    "    put_table([\n",
    "    ['u', 'v','w'],\n",
    "    ['0','1','2' ],\n",
    "    ['0','3','1'],\n",
    "    ['0','4','4'],\n",
    "    ['1','2','3'],\n",
    "    ['1','3','3'],\n",
    "    ['1','5','7'],\n",
    "    ['2','3','5'],\n",
    "    ['2','5','8'],\n",
    "    ['3','4','9']])\n",
    "    inp_graph.kruskal()"
   ]
  },
  {
   "cell_type": "code",
   "execution_count": 10,
   "id": "2c14f12c",
   "metadata": {},
   "outputs": [],
   "source": [
    "def check_num(num):\n",
    "    if num<0 :\n",
    "        return \"Only positive integers\"\n",
    "        popup(\"Error!\",\"No negative allowed\")\n",
    "        toast('New message 🔔')"
   ]
  },
  {
   "cell_type": "code",
   "execution_count": 11,
   "id": "e6e7bdef",
   "metadata": {},
   "outputs": [],
   "source": [
    "def welcome():\n",
    "    put_markdown(\"`SCL PACKAGE`\")"
   ]
  },
  {
   "cell_type": "code",
   "execution_count": 12,
   "id": "eb818161",
   "metadata": {},
   "outputs": [],
   "source": [
    "class Graph:\n",
    "    \n",
    "    #constructor\n",
    "    def __init__(self,vertices):\n",
    "        self.V=vertices\n",
    "        self.graph=[]\n",
    "        \n",
    "    #add edge to graph\n",
    "    def addedge(self,u,v,w):\n",
    "        self.graph.append([u,v,w])\n",
    "       \n",
    "       \n",
    "    def findelmt(self,parent,i):\n",
    "        if(parent[i]==i):\n",
    "            return i\n",
    "        return self.findelmt(parent,parent[i])\n",
    "    \n",
    "    #union by rank\n",
    "    def merge(self,parent,rank,n1,n2):\n",
    "        \n",
    "        rootn1=self.findelmt(parent,n1)\n",
    "        rootn2=self.findelmt(parent,n2)\n",
    "        \n",
    "        if(rank[rootn1]<rank[rootn2]):\n",
    "            parent[rootn1]=rootn2\n",
    "        elif(rank[rootn1]>rank[rootn2]):\n",
    "            parent[rootn2]=rootn1\n",
    "        else:\n",
    "            parent[rootn2]=rootn1\n",
    "            rank[n1]+=1\n",
    "            \n",
    "    def kruskal(self):\n",
    "        \n",
    "        self.graph=sorted(self.graph,key=lambda weight:weight[2])\n",
    "        MST=[]\n",
    "        #MST.append(self.graph[0])\n",
    "        #MST.append(self.graph[1])\n",
    "        \n",
    "        n=0\n",
    "        g=0\n",
    "        parent=[]\n",
    "        rank=[]\n",
    "        \n",
    "        for i in range(self.V):\n",
    "            parent.append(i)\n",
    "            rank.append(0)\n",
    "            \n",
    "        while n<self.V-1:\n",
    "            u=self.graph[g][0]\n",
    "            v=self.graph[g][1]\n",
    "            w=self.graph[g][2]\n",
    "            g+=1\n",
    "            \n",
    "            ranku=self.findelmt(parent,u);\n",
    "            rankv=self.findelmt(parent,v)\n",
    "            \n",
    "            if(ranku!=rankv):\n",
    "                MST.append([u,v,w])\n",
    "                self.merge(parent,rank,u,v)\n",
    "                n+=1\n",
    "            else:\n",
    "                continue;\n",
    "        \n",
    "        for i in range(0,len(MST)):\n",
    "            print(MST[i])\n",
    "            put_markdown(f\"MST{MST[i]}\")\n",
    "\n",
    "        \n"
   ]
  },
  {
   "cell_type": "code",
   "execution_count": 13,
   "id": "ea0a244b",
   "metadata": {},
   "outputs": [
    {
     "name": "stdout",
     "output_type": "stream",
     "text": [
      "Default\n"
     ]
    }
   ],
   "source": [
    "welcome()\n",
    "check=radio(\"Do u want to enter the values or go with default?\",options=['Enter','Default'])\n",
    "print(check)\n"
   ]
  },
  {
   "cell_type": "code",
   "execution_count": 14,
   "id": "dbc9cc3b",
   "metadata": {},
   "outputs": [
    {
     "name": "stdout",
     "output_type": "stream",
     "text": [
      "[0, 3, 1]\n",
      "[0, 1, 2]\n",
      "[1, 2, 3]\n",
      "[0, 4, 4]\n",
      "[1, 5, 7]\n"
     ]
    }
   ],
   "source": [
    "if(check=='Default'):\n",
    "    default()\n",
    "else:\n",
    "    info = input_group(\"DATA\",[\n",
    "  input('No. of vertices:', name='v',type=NUMBER,validate=check_num),\n",
    "  input('No. of edges:', name='e', type=NUMBER,validate=check_num),\n",
    "    ])     \n",
    "    print(\"No. of vertices=\",info['v'],\"No. of edges=\",info['e'])\n",
    "    inp_graph=Graph(info['v']) \n",
    "    put_table([['u','v','w']])\n",
    "    for i in range(0,info['e'],1):\n",
    "        u_v_w = input_group(\"DATA\",[\n",
    "      input('u:', name='u',type=NUMBER,validate=check_num),\n",
    "      input('v:', name='v', type=NUMBER,validate=check_num),\n",
    "      input('w:',name='w',type=NUMBER,validate=check_num),\n",
    "        ])\n",
    "        put_table([[u_v_w['u'],u_v_w['v'],u_v_w['w']]])\n",
    "        inp_graph.addedge(u_v_w['u'],u_v_w['v'],u_v_w['w'])\n",
    "    put_markdown(\"MIN SPANNING OF THE GIVEN GRAPH:\")\n",
    "    inp_graph.kruskal()"
   ]
  },
  {
   "cell_type": "code",
   "execution_count": 15,
   "id": "c2b5f51e",
   "metadata": {},
   "outputs": [],
   "source": [
    "popup('MINIMAL SPANNING TREE ALGORITHM',\"Kruskal's Algorithm Done\")\n",
    "toast('New message 🔔')"
   ]
  }
 ],
 "metadata": {
  "kernelspec": {
   "display_name": "Python 3 (ipykernel)",
   "language": "python",
   "name": "python3"
  },
  "language_info": {
   "codemirror_mode": {
    "name": "ipython",
    "version": 3
   },
   "file_extension": ".py",
   "mimetype": "text/x-python",
   "name": "python",
   "nbconvert_exporter": "python",
   "pygments_lexer": "ipython3",
   "version": "3.10.9"
  }
 },
 "nbformat": 4,
 "nbformat_minor": 5
}
